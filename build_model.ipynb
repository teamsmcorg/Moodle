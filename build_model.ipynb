{
 "cells": [
  {
   "cell_type": "code",
   "execution_count": 1,
   "metadata": {},
   "outputs": [],
   "source": [
    "from keras.models import Sequential\n",
    "from keras.layers import Convolution2D, MaxPooling2D, Flatten, Dense, Dropout\n"
   ]
  },
  {
   "cell_type": "code",
   "execution_count": 14,
   "metadata": {},
   "outputs": [],
   "source": [
    "model = Sequential()\n",
    "\n",
    "# conv layer 1\n",
    "model.add(Convolution2D(filters = 32,\n",
    "                        kernel_size = (3,3),\n",
    "                        activation = \"relu\",\n",
    "                        input_shape = (28,28,1)))\n",
    "\n",
    "# conv layer 2\n",
    "model.add(Convolution2D(filters = 32,\n",
    "                        kernel_size = (3,3),\n",
    "                        activation = \"relu\"))\n",
    "\n",
    "# pooling layer 1\n",
    "model.add(MaxPooling2D(pool_size=(2,2)))\n",
    "\n",
    "# deactivating some elements\n",
    "model.add(Dropout(.20))\n",
    "\n",
    "# conv layer 3\n",
    "model.add(Convolution2D(filters = 64,\n",
    "                        kernel_size = (3,3),\n",
    "                        activation = \"relu\"))\n",
    "                        \n",
    "\n",
    "# conv layer 4\n",
    "model.add(Convolution2D(filters = 64,\n",
    "                        kernel_size = (3,3),\n",
    "                        activation = \"relu\"))\n",
    "                       \n",
    "\n",
    "# pooling layer 2\n",
    "model.add(MaxPooling2D(pool_size=(2,2)))\n",
    "\n",
    "# deactivating some elements\n",
    "model.add(Dropout(.1))\n",
    "\n",
    "# flatten layer\n",
    "model.add(Flatten())\n",
    "\n",
    "# fully connected layer\n",
    "model.add(Dense(256, activation=\"relu\"))\n",
    "model.add(Dense(20, activation=\"softmax\"))\n",
    "\n",
    "model.compile(optimizer = \"adam\", loss=\"categorical_crossentropy\", metrics=[\"accuracy\"])"
   ]
  },
  {
   "cell_type": "code",
   "execution_count": 15,
   "metadata": {},
   "outputs": [],
   "source": [
    "from keras.preprocessing.image import ImageDataGenerator"
   ]
  },
  {
   "cell_type": "code",
   "execution_count": 16,
   "metadata": {},
   "outputs": [],
   "source": [
    "train_datagen = ImageDataGenerator(\n",
    "        rotation_range=40,\n",
    "        width_shift_range=0.2,\n",
    "        height_shift_range=0.2,\n",
    "        rescale=1./255,\n",
    "        shear_range=0.2,\n",
    "        zoom_range=0.2,\n",
    "        horizontal_flip=True,\n",
    "        vertical_flip=False,\n",
    "        fill_mode='nearest')\n",
    "\n",
    "test_datagen = ImageDataGenerator(rescale=1./255)"
   ]
  },
  {
   "cell_type": "code",
   "execution_count": 17,
   "metadata": {},
   "outputs": [
    {
     "name": "stdout",
     "output_type": "stream",
     "text": [
      "Found 48000 images belonging to 20 classes.\n"
     ]
    }
   ],
   "source": [
    "training_set = train_datagen.flow_from_directory(\n",
    "        'data/train_set',\n",
    "        target_size=(28, 28),\n",
    "        color_mode=\"grayscale\",\n",
    "        batch_size=128,\n",
    "        class_mode='categorical')"
   ]
  },
  {
   "cell_type": "code",
   "execution_count": 18,
   "metadata": {},
   "outputs": [
    {
     "name": "stdout",
     "output_type": "stream",
     "text": [
      "Found 12000 images belonging to 20 classes.\n"
     ]
    }
   ],
   "source": [
    "test_set = test_datagen.flow_from_directory(\n",
    "        'data/test_set',\n",
    "        target_size=(28, 28),\n",
    "        color_mode=\"grayscale\",\n",
    "        batch_size=128,\n",
    "        class_mode='categorical') \n"
   ]
  },
  {
   "cell_type": "code",
   "execution_count": 19,
   "metadata": {},
   "outputs": [
    {
     "name": "stdout",
     "output_type": "stream",
     "text": [
      "Epoch 1/5\n",
      "375/375 [==============================] - ETA: 0s - loss: 2.1619 - accuracy: 0.3525WARNING:tensorflow:Your input ran out of data; interrupting training. Make sure that your dataset or generator can generate at least `steps_per_epoch * epochs` batches (in this case, 3000 batches). You may need to use the repeat() function when building your dataset.\n",
      "375/375 [==============================] - 100s 263ms/step - loss: 2.1619 - accuracy: 0.3525 - val_loss: 1.2895 - val_accuracy: 0.6365\n",
      "Epoch 2/5\n",
      "375/375 [==============================] - 83s 222ms/step - loss: 1.4612 - accuracy: 0.5752\n",
      "Epoch 3/5\n",
      "375/375 [==============================] - 109s 292ms/step - loss: 1.1560 - accuracy: 0.6689\n",
      "Epoch 4/5\n",
      "375/375 [==============================] - 77s 205ms/step - loss: 1.0064 - accuracy: 0.7144\n",
      "Epoch 5/5\n",
      "375/375 [==============================] - 79s 211ms/step - loss: 0.9162 - accuracy: 0.7427\n"
     ]
    },
    {
     "data": {
      "text/plain": [
       "<keras.callbacks.History at 0x20cc7bf63a0>"
      ]
     },
     "execution_count": 19,
     "metadata": {},
     "output_type": "execute_result"
    }
   ],
   "source": [
    "model.fit(\n",
    "        training_set,\n",
    "        steps_per_epoch=len(training_set),\n",
    "        epochs=5,\n",
    "        validation_data=test_set,\n",
    "        validation_steps=3000)"
   ]
  },
  {
   "cell_type": "code",
   "execution_count": 20,
   "metadata": {},
   "outputs": [],
   "source": [
    "model.save(\"model_new.h5\")\n",
    "model_json = model.to_json()\n",
    "with open(\"model_new.json\", \"w\") as json_file:\n",
    "    json_file.write(model_json)"
   ]
  }
 ],
 "metadata": {
  "kernelspec": {
   "display_name": "Python 3",
   "language": "python",
   "name": "python3"
  },
  "language_info": {
   "codemirror_mode": {
    "name": "ipython",
    "version": 3
   },
   "file_extension": ".py",
   "mimetype": "text/x-python",
   "name": "python",
   "nbconvert_exporter": "python",
   "pygments_lexer": "ipython3",
   "version": "3.9.13"
  },
  "orig_nbformat": 4
 },
 "nbformat": 4,
 "nbformat_minor": 2
}
